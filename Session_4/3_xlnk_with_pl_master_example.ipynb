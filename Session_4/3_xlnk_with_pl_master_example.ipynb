{
 "cells": [
  {
   "cell_type": "markdown",
   "metadata": {},
   "source": [
    "# IOP Example\n",
    "\n",
    "In this notebook, the PYNQ Xlnk class will be used to allocate a memory buffer in the DDR memory. An IOP will be instantiated. An application will run on the IOP to modify the memory buffer in the DDR memory. \n",
    "\n",
    "Two files are provided in ``Session_4\\iop`` *pynq_tutorial.bin* an IOP application, and *pynq_tutorial.py* a Python wrapper. Both these files should be copied to ``xilinx\\pynq\\iop`` on your board before running the example below."
   ]
  },
  {
   "cell_type": "code",
   "execution_count": null,
   "metadata": {
    "collapsed": true
   },
   "outputs": [],
   "source": [
    "from time import sleep\n",
    "from pprint import pprint\n",
    "\n",
    "def get_kb(mmu):\n",
    "    return int(mmu.cma_stats()['CMA Memory Available']//1024)\n",
    "\n",
    "def get_bufcount(mmu):\n",
    "    return int(memmanager.cma_stats()['Buffer Count'])\n",
    "\n",
    "def print_kb(mmu):\n",
    "    print(\"Available Memory (KB): \" + str(get_kb(mmu)))"
   ]
  },
  {
   "cell_type": "markdown",
   "metadata": {},
   "source": [
    "### Create an instance of Xlnk\n",
    "\n",
    "An instance of Xlnk called *mmu* will be created. "
   ]
  },
  {
   "cell_type": "code",
   "execution_count": null,
   "metadata": {
    "collapsed": true
   },
   "outputs": [],
   "source": [
    "from pynq import Xlnk\n",
    "xlnk = Xlnk()"
   ]
  },
  {
   "cell_type": "markdown",
   "metadata": {},
   "source": [
    "### Check the status of the mmu\n",
    "\n",
    "*cma_stats()* can be used to get the status of the Xlnk instance. Xlnk can only allocate memory if sufficient space is available. "
   ]
  },
  {
   "cell_type": "code",
   "execution_count": null,
   "metadata": {},
   "outputs": [],
   "source": [
    "xlnk.cma_stats()"
   ]
  },
  {
   "cell_type": "markdown",
   "metadata": {},
   "source": [
    "## Allocate memory buffer\n",
    "Allocating the memory buffer returns the virtual address. The function cma_get_phy_addr() can be used to return the physical address. \n",
    "\n",
    "Allocate the memory, get the physical address, and print the status of the memory space before and after Xlnk allocates memory:"
   ]
  },
  {
   "cell_type": "code",
   "execution_count": null,
   "metadata": {},
   "outputs": [],
   "source": [
    "import numpy as np \n",
    "\n",
    "print(\"Before memory allocation:\")\n",
    "print_kb(xlnk)\n",
    "\n",
    "# Allocate memory\n",
    "buffer = xlnk.cma_array(shape=(1000,), dtype=np.int32)\n",
    "\n",
    "print(\"After memory allocation:\")\n",
    "print_kb(xlnk)"
   ]
  },
  {
   "cell_type": "markdown",
   "metadata": {},
   "source": [
    "### Check the memory buffer addresses\n",
    "\n",
    "The virtual address can be used by any application running in Linux. This could be a Python application, or a C/C++ or other application running in Linux. The Physical address can be passed to an IP block in an overlay."
   ]
  },
  {
   "cell_type": "markdown",
   "metadata": {},
   "source": [
    "## Instantiate the IOP\n",
    "\n",
    "The IOP application waits until it receives a (physical) memory address, an initialization value, and a length. Once it receives these values, it will write the initialization value to the first location in the memory buffer, then increment the value and write it to the next N locations, where N is the length. \n",
    "\n",
    "Note that care should be taken with this example. The IOP has full access to DDR memory where the Linux OS is running. Giving the wrong buffer address could allow the IOP application to modify memory where the operating system is running which would cause the system to crash. \n",
    "\n",
    "\n",
    "**C code snippet of the IOP application:**\n",
    "\n",
    "```c\n",
    "\n",
    "   MAILBOX_DATA(BUFFER_ADDR)=0;\n",
    "\n",
    "   while(1){\n",
    "      while(MAILBOX_DATA(BUFFER_ADDR)==0); // Wait for buffer address\n",
    "      \n",
    "      // DDR is accessed through a GP port at offset 0x20000000\n",
    "      buffer = (unsigned *)(MAILBOX_DATA(BUFFER_ADDR)|0x20000000); // Cast to pointer and convert to DDR offset address\n",
    "      data = MAILBOX_DATA(INIT_DATA);\n",
    "      length = MAILBOX_DATA(ARRAY_LENGTH);\n",
    "      \n",
    "      // Write memory buffer in DDR\n",
    "      for(i=0; i<length; i++){\n",
    "          buffer[i]= data+i;\n",
    "      }\n",
    "      \n",
    "      MAILBOX_DATA(BUFFER_ADDR) = 0; // Reset buffer address\n",
    "   }```"
   ]
  },
  {
   "cell_type": "markdown",
   "metadata": {},
   "source": [
    "### Instantiate the IOP\n",
    "\n",
    "Instantiate the IOP and start running the application. "
   ]
  },
  {
   "cell_type": "code",
   "execution_count": null,
   "metadata": {
    "collapsed": true
   },
   "outputs": [],
   "source": [
    "from pynq import Overlay\n",
    "\n",
    "overlay = Overlay(\"./bitstream/pynq_tutorial.bit\")"
   ]
  },
  {
   "cell_type": "code",
   "execution_count": null,
   "metadata": {},
   "outputs": [],
   "source": [
    "help(overlay)"
   ]
  },
  {
   "cell_type": "code",
   "execution_count": null,
   "metadata": {},
   "outputs": [],
   "source": [
    "from iop.pynq_tutorial import Pynq_Tutorial\n",
    "iop = Pynq_Tutorial(overlay.iop1.mb_info)"
   ]
  },
  {
   "cell_type": "code",
   "execution_count": null,
   "metadata": {},
   "outputs": [],
   "source": [
    "help(iop)"
   ]
  },
  {
   "cell_type": "markdown",
   "metadata": {},
   "source": [
    "Check the content of the buffer before sending the buffer address to the IOP."
   ]
  },
  {
   "cell_type": "code",
   "execution_count": null,
   "metadata": {},
   "outputs": [],
   "source": [
    "print(\"Initial state of the buffer\")\n",
    "length = 10\n",
    "for i in range(length):\n",
    "    print(buffer[i])    "
   ]
  },
  {
   "cell_type": "markdown",
   "metadata": {},
   "source": [
    "## Write to buffer from IOP\n",
    "\n",
    "Write the physical pointer address returned form the *mmu* Xlnk instance, along with an initialization value and a length. The IOP application will then write to the memory buffer."
   ]
  },
  {
   "cell_type": "code",
   "execution_count": null,
   "metadata": {},
   "outputs": [],
   "source": [
    "data = 1\n",
    "length = 10\n",
    "iop.write_to_buffer(buffer.physical_address, length, data)"
   ]
  },
  {
   "cell_type": "markdown",
   "metadata": {},
   "source": [
    "Check the contents of the buffer after the IOP application has modified the buffer. The cell above can be re-run with different values of data and length."
   ]
  },
  {
   "cell_type": "code",
   "execution_count": null,
   "metadata": {},
   "outputs": [],
   "source": [
    "print(\"State of buffer after IOP write\")\n",
    "for i in range(length):\n",
    "    print(buffer[i])"
   ]
  },
  {
   "cell_type": "markdown",
   "metadata": {},
   "source": [
    "## Free Memory\n",
    "\n",
    "The last step should be to free the memory. "
   ]
  },
  {
   "cell_type": "code",
   "execution_count": null,
   "metadata": {},
   "outputs": [],
   "source": [
    "from time import sleep\n",
    "buffer.freebuffer()\n",
    "sleep(1)\n",
    "print(xlnk.cma_stats())\n",
    "print_kb(xlnk)"
   ]
  }
 ],
 "metadata": {
  "kernelspec": {
   "display_name": "Python 3",
   "language": "python",
   "name": "python3"
  },
  "language_info": {
   "codemirror_mode": {
    "name": "ipython",
    "version": 3
   },
   "file_extension": ".py",
   "mimetype": "text/x-python",
   "name": "python",
   "nbconvert_exporter": "python",
   "pygments_lexer": "ipython3",
   "version": "3.6.0"
  }
 },
 "nbformat": 4,
 "nbformat_minor": 1
}
