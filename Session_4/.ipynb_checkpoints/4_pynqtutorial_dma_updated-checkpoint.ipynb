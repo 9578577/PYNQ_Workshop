{
 "cells": [
  {
   "cell_type": "markdown",
   "metadata": {},
   "source": [
    "# PYNQ tutorial: DMA to streamed interfaces\n",
    "\n",
    "Overlay consists of two DMAs and an AXI Stream FIFO (input and output AXI stream interfaces). The FIFO represents an accelerator.\n",
    "\n",
    "* The first DMA with read channel enabled is connected from DDR to IP input stream (reading from DDR, and sending to AXI stream).\n",
    "* The second DMA has a write channel enabled and is connected to IP output stream to DDR (receiving from AXI stream, and writing to DDR memory).\n",
    "\n",
    "There are other IP in the design which will be ignored for now.\n",
    "\n",
    "![](data/dma_stream_example.png)"
   ]
  },
  {
   "cell_type": "markdown",
   "metadata": {},
   "source": [
    "## 1. Downloading overlay\n",
    "The overlay can be downloaded automatically when instantiating an overlay class."
   ]
  },
  {
   "cell_type": "code",
   "execution_count": 4,
   "metadata": {},
   "outputs": [],
   "source": [
    "from pynq import Overlay\n",
    "\n",
    "overlay = Overlay(\"./bitstream/pynq_tutorial.bit\")"
   ]
  },
  {
   "cell_type": "markdown",
   "metadata": {},
   "source": [
    "We can also check all the IPs in this overlay. "
   ]
  },
  {
   "cell_type": "code",
   "execution_count": 5,
   "metadata": {
    "scrolled": true
   },
   "outputs": [
    {
     "name": "stdout",
     "output_type": "stream",
     "text": [
      "Help on Overlay in module pynq.overlay object:\n",
      "\n",
      "class Overlay(pynq.pl.Bitstream)\n",
      " |  Default documentation for overlay ./bitstream/pynq_tutorial.bit. The following\n",
      " |  attributes are available on this overlay:\n",
      " |  \n",
      " |  IP Blocks\n",
      " |  ----------\n",
      " |  axi_dma_from_pl_to_ps : pynq.lib.dma.DMA\n",
      " |  axi_dma_from_ps_to_pl : pynq.lib.dma.DMA\n",
      " |  btns_gpio            : pynq.lib.axigpio.AxiGPIO\n",
      " |  rgbleds_gpio         : pynq.lib.axigpio.AxiGPIO\n",
      " |  swsleds_gpio         : pynq.lib.axigpio.AxiGPIO\n",
      " |  system_interrupts    : pynq.overlay.DefaultIP\n",
      " |  \n",
      " |  Hierarchies\n",
      " |  -----------\n",
      " |  iop2                 : pynq.lib.pynqmicroblaze.MicroblazeHierarchy\n",
      " |  iop1                 : pynq.lib.pynqmicroblaze.MicroblazeHierarchy\n",
      " |  \n",
      " |  Interrupts\n",
      " |  ----------\n",
      " |  None\n",
      " |  \n",
      " |  GPIO Outputs\n",
      " |  ------------\n",
      " |  None\n",
      " |  \n",
      " |  Method resolution order:\n",
      " |      Overlay\n",
      " |      pynq.pl.Bitstream\n",
      " |      builtins.object\n",
      " |  \n",
      " |  Methods defined here:\n",
      " |  \n",
      " |  __dir__(self)\n",
      " |      __dir__() -> list\n",
      " |      default dir() implementation\n",
      " |  \n",
      " |  __getattr__(self, key)\n",
      " |      Overload of __getattr__ to return a driver for an IP or\n",
      " |      hierarchy. Throws an `RuntimeError` if the overlay is not loaded.\n",
      " |  \n",
      " |  __init__(self, bitfile_name, download=True, ignore_version=False)\n",
      " |      Return a new Overlay object.\n",
      " |      \n",
      " |      An overlay instantiates a bitstream object as a member initially.\n",
      " |      \n",
      " |      Parameters\n",
      " |      ----------\n",
      " |      bitfile_name : str\n",
      " |          The bitstream name or absolute path as a string.\n",
      " |      download : boolean or None\n",
      " |          Whether the overlay should be downloaded. If None then the\n",
      " |          overlay will be downloaded if it isn't already loaded.\n",
      " |      \n",
      " |      Note\n",
      " |      ----\n",
      " |      This class requires a Vivado '.tcl' file to be next to bitstream file\n",
      " |      with same name (e.g. base.bit and base.tcl).\n",
      " |  \n",
      " |  download(self)\n",
      " |      The method to download a bitstream onto PL.\n",
      " |      \n",
      " |      Note\n",
      " |      ----\n",
      " |      After the bitstream has been downloaded, the \"timestamp\" in PL will be\n",
      " |      updated. In addition, all the dictionaries on PL will\n",
      " |      be reset automatically.\n",
      " |      \n",
      " |      Returns\n",
      " |      -------\n",
      " |      None\n",
      " |  \n",
      " |  is_loaded(self)\n",
      " |      This method checks whether a bitstream is loaded.\n",
      " |      \n",
      " |      This method returns true if the loaded PL bitstream is same\n",
      " |      as this Overlay's member bitstream.\n",
      " |      \n",
      " |      Returns\n",
      " |      -------\n",
      " |      bool\n",
      " |          True if bitstream is loaded.\n",
      " |  \n",
      " |  load_ip_data(self, ip_name, data)\n",
      " |      This method loads the data to the addressable IP.\n",
      " |      \n",
      " |      Calls the method in the super class to load the data. This method can\n",
      " |      be used to program the IP. For example, users can use this method to\n",
      " |      load the program to the Microblaze processors on PL.\n",
      " |      \n",
      " |      Note\n",
      " |      ----\n",
      " |      The data is assumed to be in binary format (.bin). The data name will\n",
      " |      be stored as a state information in the IP dictionary.\n",
      " |      \n",
      " |      Parameters\n",
      " |      ----------\n",
      " |      ip_name : str\n",
      " |          The name of the addressable IP.\n",
      " |      data : str\n",
      " |          The absolute path of the data to be loaded.\n",
      " |      \n",
      " |      Returns\n",
      " |      -------\n",
      " |      None\n",
      " |  \n",
      " |  reset(self)\n",
      " |      This function resets all the dictionaries kept in the overlay.\n",
      " |      \n",
      " |      This function should be used with caution.\n",
      " |      \n",
      " |      Returns\n",
      " |      -------\n",
      " |      None\n",
      " |  \n",
      " |  ----------------------------------------------------------------------\n",
      " |  Data descriptors inherited from pynq.pl.Bitstream:\n",
      " |  \n",
      " |  __dict__\n",
      " |      dictionary for instance variables (if defined)\n",
      " |  \n",
      " |  __weakref__\n",
      " |      list of weak references to the object (if defined)\n",
      "\n"
     ]
    }
   ],
   "source": [
    "help(overlay)"
   ]
  },
  {
   "cell_type": "markdown",
   "metadata": {},
   "source": [
    "## 2. Create DMA instances\n",
    "\n",
    "Using the labels for the DMAs listed above, we can create two DMA objects."
   ]
  },
  {
   "cell_type": "code",
   "execution_count": 6,
   "metadata": {
    "collapsed": true
   },
   "outputs": [],
   "source": [
    "import pynq.lib.dma\n",
    "\n",
    "dma_send = overlay.axi_dma_from_ps_to_pl\n",
    "dma_recv = overlay.axi_dma_from_pl_to_ps"
   ]
  },
  {
   "cell_type": "markdown",
   "metadata": {
    "collapsed": true
   },
   "source": [
    "## 3. Debug DMA\n",
    "\n",
    "In the following cell, we will create some useful methods to print control and status information from the DMA instances. Notice that read() and write() functions are available and can access the IP register space.  "
   ]
  },
  {
   "cell_type": "code",
   "execution_count": 7,
   "metadata": {
    "collapsed": true
   },
   "outputs": [],
   "source": [
    "def print_dma_status():\n",
    "    print(\"====  From memory to FIFO  ====\")\n",
    "    print(\"MM to Stream Control: 0x\" + \n",
    "          hex(dma_send.read(0x0)))\n",
    "    print(\"             Binary : 0b\" + \n",
    "          hex(dma_send.read(0x0)))\n",
    "    print(\"MM to Stream Status : 0x\" + \n",
    "          hex(dma_send.read(0x4)))\n",
    "    print(\"             Binary : 0b\" + \n",
    "          format(dma_send.read(0x4), '0b'))\n",
    "    \n",
    "    print(\"\\n==== From FIFO to Memory ====\")\n",
    "    print(\"Stream to MM Control: 0x\" + \n",
    "          hex(dma_recv.read(0x30)))\n",
    "    print(\"             Binary : 0b\" + \n",
    "          hex(dma_recv.read(0x30)))\n",
    "    print(\"Stream to MM Status : 0x\" + \n",
    "          hex(dma_recv.read(0x34)))\n",
    "    print(\"             Binary : 0b\" + \n",
    "          format(dma_recv.read(0x34), '0b'))"
   ]
  },
  {
   "cell_type": "markdown",
   "metadata": {},
   "source": [
    "The bits for control registers are:\n",
    "* bit 1 : This bit is always 1.\n",
    "* bit 16 : IRQ threshold.\n",
    "\n",
    "The bits for status registers are:\n",
    "* bit 0 : If it is 1, it means the DMA is halted."
   ]
  },
  {
   "cell_type": "code",
   "execution_count": 8,
   "metadata": {},
   "outputs": [
    {
     "name": "stdout",
     "output_type": "stream",
     "text": [
      "====  From memory to FIFO  ====\n",
      "MM to Stream Control: 0x0x11003\n",
      "             Binary : 0b0x11003\n",
      "MM to Stream Status : 0x0x0\n",
      "             Binary : 0b0\n",
      "\n",
      "==== From FIFO to Memory ====\n",
      "Stream to MM Control: 0x0x11003\n",
      "             Binary : 0b0x11003\n",
      "Stream to MM Status : 0x0x0\n",
      "             Binary : 0b0\n"
     ]
    }
   ],
   "source": [
    "print_dma_status()"
   ]
  },
  {
   "cell_type": "markdown",
   "metadata": {},
   "source": [
    "## 5. Read DMA\n",
    "We will read some data from memory, and write to FIFO in the following cells.\n",
    "\n",
    "The first step is to create the a contiguous memory block. Xlnk will be used to allocate the buffer, and NumPy will be used to specify the type of the buffer. "
   ]
  },
  {
   "cell_type": "code",
   "execution_count": 9,
   "metadata": {
    "collapsed": true
   },
   "outputs": [],
   "source": [
    "from pynq import Xlnk\n",
    "import numpy as np\n",
    "\n",
    "data_size = 10\n",
    "\n",
    "xlnk = Xlnk()\n",
    "\n",
    "input_buffer = xlnk.cma_array(shape=(data_size,), dtype=np.uint32)"
   ]
  },
  {
   "cell_type": "markdown",
   "metadata": {},
   "source": [
    "The array can be used like any other NumPy array. We can write some test data to the array. Later the data will be transferred by the DMA to the FIFO. "
   ]
  },
  {
   "cell_type": "code",
   "execution_count": 10,
   "metadata": {
    "collapsed": true
   },
   "outputs": [],
   "source": [
    "for i in range(data_size):\n",
    "    input_buffer[i] = i + 0xffff0000"
   ]
  },
  {
   "cell_type": "markdown",
   "metadata": {},
   "source": [
    "Let's check the contents of the array. The data in the following cell will be sent from PS (DDR memory) to PL (streaming FIFO)."
   ]
  },
  {
   "cell_type": "code",
   "execution_count": 11,
   "metadata": {
    "scrolled": true
   },
   "outputs": [
    {
     "name": "stdout",
     "output_type": "stream",
     "text": [
      "0xcafe0000\n",
      "0xcafe0001\n",
      "0xcafe0002\n",
      "0xcafe0003\n",
      "0xcafe0004\n",
      "0xcafe0005\n",
      "0xcafe0006\n",
      "0xcafe0007\n",
      "0xcafe0008\n",
      "0xcafe0009\n"
     ]
    }
   ],
   "source": [
    "for i in range(data_size):\n",
    "    print(hex(input_buffer[i]))"
   ]
  },
  {
   "cell_type": "markdown",
   "metadata": {},
   "source": [
    "Now we are ready to carry out DMA transfer from a memory block in DDR to FIFO."
   ]
  },
  {
   "cell_type": "code",
   "execution_count": 12,
   "metadata": {
    "collapsed": true
   },
   "outputs": [],
   "source": [
    "dma_send.sendchannel.transfer(input_buffer)"
   ]
  },
  {
   "cell_type": "markdown",
   "metadata": {},
   "source": [
    "Let's check the status of the DMA.\n",
    "\n",
    "Control register:\n",
    "* bit 0 : Start the DMA if the value is 1, else halt the DMA.\n",
    "* bit 1 : Always 1\n",
    "* bit 16 : IRQ threshold.\n",
    "\n",
    "Status register:\n",
    "* bit 0 : 0 means the DMA is halted.\n",
    "* bit 1 : 1 means the DMA is idle.\n",
    "* bit 12 : Interrupt on complete."
   ]
  },
  {
   "cell_type": "code",
   "execution_count": 13,
   "metadata": {},
   "outputs": [
    {
     "name": "stdout",
     "output_type": "stream",
     "text": [
      "====  From memory to FIFO  ====\n",
      "MM to Stream Control: 0x0x11003\n",
      "             Binary : 0b0x11003\n",
      "MM to Stream Status : 0x0x1002\n",
      "             Binary : 0b1000000000010\n",
      "\n",
      "==== From FIFO to Memory ====\n",
      "Stream to MM Control: 0x0x11003\n",
      "             Binary : 0b0x11003\n",
      "Stream to MM Status : 0x0x0\n",
      "             Binary : 0b0\n"
     ]
    }
   ],
   "source": [
    "print_dma_status()"
   ]
  },
  {
   "cell_type": "markdown",
   "metadata": {},
   "source": [
    "## 5. Write DMA\n",
    "Let's read the data back from FIFO stream, and write to MM memory. The steps are similar.\n",
    "\n",
    "We will prepare an empty array before reading data back from FIFO."
   ]
  },
  {
   "cell_type": "code",
   "execution_count": 14,
   "metadata": {},
   "outputs": [
    {
     "name": "stdout",
     "output_type": "stream",
     "text": [
      "0x00\n",
      "0x00\n",
      "0x00\n",
      "0x00\n",
      "0x00\n",
      "0x00\n",
      "0x00\n",
      "0x00\n",
      "0x00\n",
      "0x00\n"
     ]
    }
   ],
   "source": [
    "output_buffer = xlnk.cma_array(shape=(data_size,), dtype=np.uint32)\n",
    "for i in range(data_size):\n",
    "    print('0x' + format(output_buffer[i], '02x'))"
   ]
  },
  {
   "cell_type": "code",
   "execution_count": 15,
   "metadata": {
    "collapsed": true
   },
   "outputs": [],
   "source": [
    "dma_recv.recvchannel.transfer(output_buffer)"
   ]
  },
  {
   "cell_type": "markdown",
   "metadata": {},
   "source": [
    "The next cell will print out the data received from PL (streaming FIFO) to PS (DDR memory). This should be the same as the data we sent previously."
   ]
  },
  {
   "cell_type": "code",
   "execution_count": 16,
   "metadata": {},
   "outputs": [
    {
     "name": "stdout",
     "output_type": "stream",
     "text": [
      "0xcafe0000\n",
      "0xcafe0001\n",
      "0xcafe0002\n",
      "0xcafe0003\n",
      "0xcafe0004\n",
      "0xcafe0005\n",
      "0xcafe0006\n",
      "0xcafe0007\n",
      "0xcafe0008\n",
      "0xcafe0009\n"
     ]
    }
   ],
   "source": [
    "for i in range(data_size):\n",
    "    print('0x' + format(output_buffer[i], '02x'))"
   ]
  },
  {
   "cell_type": "code",
   "execution_count": 17,
   "metadata": {},
   "outputs": [
    {
     "name": "stdout",
     "output_type": "stream",
     "text": [
      "====  From memory to FIFO  ====\n",
      "MM to Stream Control: 0x0x11003\n",
      "             Binary : 0b0x11003\n",
      "MM to Stream Status : 0x0x1002\n",
      "             Binary : 0b1000000000010\n",
      "\n",
      "==== From FIFO to Memory ====\n",
      "Stream to MM Control: 0x0x11003\n",
      "             Binary : 0b0x11003\n",
      "Stream to MM Status : 0x0x1002\n",
      "             Binary : 0b1000000000010\n"
     ]
    }
   ],
   "source": [
    "print_dma_status()"
   ]
  },
  {
   "cell_type": "markdown",
   "metadata": {},
   "source": [
    "## 6. Free all the memory buffers\n",
    "Don't forget to free all the memory buffers to avoid memory leaks!"
   ]
  },
  {
   "cell_type": "code",
   "execution_count": 18,
   "metadata": {
    "collapsed": true
   },
   "outputs": [],
   "source": [
    "xlnk.xlnk_reset()"
   ]
  }
 ],
 "metadata": {
  "kernelspec": {
   "display_name": "Python 3",
   "language": "python",
   "name": "python3"
  },
  "language_info": {
   "codemirror_mode": {
    "name": "ipython",
    "version": 3
   },
   "file_extension": ".py",
   "mimetype": "text/x-python",
   "name": "python",
   "nbconvert_exporter": "python",
   "pygments_lexer": "ipython3",
   "version": "3.6.0"
  }
 },
 "nbformat": 4,
 "nbformat_minor": 2
}
