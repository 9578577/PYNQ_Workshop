{
 "cells": [
  {
   "cell_type": "markdown",
   "metadata": {},
   "source": [
    "# IOP Example\n",
    "\n",
    "In this notebook, the PYNQ Xlnk class will be used to allocate a memory buffer in the DDR memory. An IOP will be instantiated. An application will run on the IOP to modify the memory buffer in the DDR memory. \n",
    "\n",
    "Two files are provided in ``Session_4\\iop`` *pynq_tutorial.bin* an IOP application, and *pynq_tutorial.py* a Python wrapper. Both these files should be copied to ``xilinx\\pynq\\iop`` on your board before running the example below."
   ]
  },
  {
   "cell_type": "code",
   "execution_count": 1,
   "metadata": {
    "collapsed": true
   },
   "outputs": [],
   "source": [
    "from time import sleep\n",
    "from pprint import pprint\n",
    "\n",
    "def get_kb(mmu):\n",
    "    return int(mmu.cma_stats()['CMA Memory Available']//1024)\n",
    "\n",
    "def get_bufcount(mmu):\n",
    "    return int(memmanager.cma_stats()['Buffer Count'])\n",
    "\n",
    "def print_kb(mmu):\n",
    "    print(\"Available Memory (KB): \" + str(get_kb(mmu)))"
   ]
  },
  {
   "cell_type": "markdown",
   "metadata": {},
   "source": [
    "### Create an instance of Xlnk\n",
    "\n",
    "An instance of Xlnk called *mmu* will be created. "
   ]
  },
  {
   "cell_type": "code",
   "execution_count": 2,
   "metadata": {
    "collapsed": true
   },
   "outputs": [],
   "source": [
    "from pynq import Xlnk\n",
    "xlnk = Xlnk()"
   ]
  },
  {
   "cell_type": "markdown",
   "metadata": {},
   "source": [
    "### Check the status of the mmu\n",
    "\n",
    "*cma_stats()* can be used to get the status of the Xlnk instance. Xlnk can only allocate memory if sufficient space is available. "
   ]
  },
  {
   "cell_type": "code",
   "execution_count": 3,
   "metadata": {},
   "outputs": [
    {
     "data": {
      "text/plain": [
       "{'Buffer Count': 0, 'CMA Memory Available': 133926912, 'CMA Memory Usage': 0}"
      ]
     },
     "execution_count": 3,
     "metadata": {},
     "output_type": "execute_result"
    }
   ],
   "source": [
    "xlnk.cma_stats()"
   ]
  },
  {
   "cell_type": "markdown",
   "metadata": {},
   "source": [
    "## Allocate memory buffer\n",
    "Allocating the memory buffer returns the virtual address. The function cma_get_phy_addr() can be used to return the physical address. \n",
    "\n",
    "Allocate the memory, get the physical address, and print the status of the memory space before and after Xlnk allocates memory:"
   ]
  },
  {
   "cell_type": "code",
   "execution_count": 4,
   "metadata": {},
   "outputs": [
    {
     "name": "stdout",
     "output_type": "stream",
     "text": [
      "Before memory allocation:\n",
      "Available Memory (KB): 130788\n",
      "After memory allocation:\n",
      "Available Memory (KB): 130788\n"
     ]
    }
   ],
   "source": [
    "import numpy as np \n",
    "\n",
    "print(\"Before memory allocation:\")\n",
    "print_kb(xlnk)\n",
    "\n",
    "# Allocate memory\n",
    "buffer = xlnk.cma_array(shape=(1000,), dtype=np.int32)\n",
    "\n",
    "print(\"After memory allocation:\")\n",
    "print_kb(xlnk)"
   ]
  },
  {
   "cell_type": "markdown",
   "metadata": {},
   "source": [
    "### Check the memory buffer addresses\n",
    "\n",
    "The virtual address can be used by any application running in Linux. This could be a Python application, or a C/C++ or other application running in Linux. The Physical address can be passed to an IP block in an overlay."
   ]
  },
  {
   "cell_type": "markdown",
   "metadata": {},
   "source": [
    "## Instantiate the IOP\n",
    "\n",
    "The IOP application waits until it receives a (physical) memory address, an initialization value, and a length. Once it receives these values, it will write the initialization value to the first location in the memory buffer, then increment the value and write it to the next N locations, where N is the length. \n",
    "\n",
    "Note that care should be taken with this example. The IOP has full access to DDR memory where the Linux OS is running. Giving the wrong buffer address could allow the IOP application to modify memory where the operating system is running which would cause the system to crash. \n",
    "\n",
    "\n",
    "**C code snippet of the IOP application:**\n",
    "\n",
    "```c\n",
    "\n",
    "   MAILBOX_DATA(BUFFER_ADDR)=0;\n",
    "\n",
    "   while(1){\n",
    "      while(MAILBOX_DATA(BUFFER_ADDR)==0); // Wait for buffer address\n",
    "      \n",
    "      // DDR is accessed through a GP port at offset 0x20000000\n",
    "      buffer = (unsigned *)(MAILBOX_DATA(BUFFER_ADDR)|0x20000000); // Cast to pointer and convert to DDR offset address\n",
    "      data = MAILBOX_DATA(INIT_DATA);\n",
    "      length = MAILBOX_DATA(ARRAY_LENGTH);\n",
    "      \n",
    "      // Write memory buffer in DDR\n",
    "      for(i=0; i<length; i++){\n",
    "          buffer[i]= data+i;\n",
    "      }\n",
    "      \n",
    "      MAILBOX_DATA(BUFFER_ADDR) = 0; // Reset buffer address\n",
    "   }```"
   ]
  },
  {
   "cell_type": "markdown",
   "metadata": {},
   "source": [
    "### Instantiate the IOP\n",
    "\n",
    "Instantiate the IOP and start running the application. "
   ]
  },
  {
   "cell_type": "code",
   "execution_count": 5,
   "metadata": {
    "collapsed": true
   },
   "outputs": [],
   "source": [
    "from pynq import Overlay\n",
    "\n",
    "overlay = Overlay(\"./bitstream/pynq_tutorial.bit\")"
   ]
  },
  {
   "cell_type": "code",
   "execution_count": 6,
   "metadata": {},
   "outputs": [
    {
     "name": "stdout",
     "output_type": "stream",
     "text": [
      "Help on Overlay in module pynq.overlay object:\n",
      "\n",
      "class Overlay(pynq.pl.Bitstream)\n",
      " |  Default documentation for overlay ./bitstream/pynq_tutorial.bit. The following\n",
      " |  attributes are available on this overlay:\n",
      " |  \n",
      " |  IP Blocks\n",
      " |  ----------\n",
      " |  axi_dma_from_pl_to_ps : pynq.lib.dma.DMA\n",
      " |  axi_dma_from_ps_to_pl : pynq.lib.dma.DMA\n",
      " |  btns_gpio            : pynq.lib.axigpio.AxiGPIO\n",
      " |  rgbleds_gpio         : pynq.lib.axigpio.AxiGPIO\n",
      " |  swsleds_gpio         : pynq.lib.axigpio.AxiGPIO\n",
      " |  system_interrupts    : pynq.overlay.DefaultIP\n",
      " |  \n",
      " |  Hierarchies\n",
      " |  -----------\n",
      " |  iop1                 : pynq.lib.pynqmicroblaze.MicroblazeHierarchy\n",
      " |  iop2                 : pynq.lib.pynqmicroblaze.MicroblazeHierarchy\n",
      " |  \n",
      " |  Interrupts\n",
      " |  ----------\n",
      " |  None\n",
      " |  \n",
      " |  GPIO Outputs\n",
      " |  ------------\n",
      " |  None\n",
      " |  \n",
      " |  Method resolution order:\n",
      " |      Overlay\n",
      " |      pynq.pl.Bitstream\n",
      " |      builtins.object\n",
      " |  \n",
      " |  Methods defined here:\n",
      " |  \n",
      " |  __dir__(self)\n",
      " |      __dir__() -> list\n",
      " |      default dir() implementation\n",
      " |  \n",
      " |  __getattr__(self, key)\n",
      " |      Overload of __getattr__ to return a driver for an IP or\n",
      " |      hierarchy. Throws an `RuntimeError` if the overlay is not loaded.\n",
      " |  \n",
      " |  __init__(self, bitfile_name, download=True, ignore_version=False)\n",
      " |      Return a new Overlay object.\n",
      " |      \n",
      " |      An overlay instantiates a bitstream object as a member initially.\n",
      " |      \n",
      " |      Parameters\n",
      " |      ----------\n",
      " |      bitfile_name : str\n",
      " |          The bitstream name or absolute path as a string.\n",
      " |      download : boolean or None\n",
      " |          Whether the overlay should be downloaded. If None then the\n",
      " |          overlay will be downloaded if it isn't already loaded.\n",
      " |      \n",
      " |      Note\n",
      " |      ----\n",
      " |      This class requires a Vivado '.tcl' file to be next to bitstream file\n",
      " |      with same name (e.g. base.bit and base.tcl).\n",
      " |  \n",
      " |  download(self)\n",
      " |      The method to download a bitstream onto PL.\n",
      " |      \n",
      " |      Note\n",
      " |      ----\n",
      " |      After the bitstream has been downloaded, the \"timestamp\" in PL will be\n",
      " |      updated. In addition, all the dictionaries on PL will\n",
      " |      be reset automatically.\n",
      " |      \n",
      " |      Returns\n",
      " |      -------\n",
      " |      None\n",
      " |  \n",
      " |  is_loaded(self)\n",
      " |      This method checks whether a bitstream is loaded.\n",
      " |      \n",
      " |      This method returns true if the loaded PL bitstream is same\n",
      " |      as this Overlay's member bitstream.\n",
      " |      \n",
      " |      Returns\n",
      " |      -------\n",
      " |      bool\n",
      " |          True if bitstream is loaded.\n",
      " |  \n",
      " |  load_ip_data(self, ip_name, data)\n",
      " |      This method loads the data to the addressable IP.\n",
      " |      \n",
      " |      Calls the method in the super class to load the data. This method can\n",
      " |      be used to program the IP. For example, users can use this method to\n",
      " |      load the program to the Microblaze processors on PL.\n",
      " |      \n",
      " |      Note\n",
      " |      ----\n",
      " |      The data is assumed to be in binary format (.bin). The data name will\n",
      " |      be stored as a state information in the IP dictionary.\n",
      " |      \n",
      " |      Parameters\n",
      " |      ----------\n",
      " |      ip_name : str\n",
      " |          The name of the addressable IP.\n",
      " |      data : str\n",
      " |          The absolute path of the data to be loaded.\n",
      " |      \n",
      " |      Returns\n",
      " |      -------\n",
      " |      None\n",
      " |  \n",
      " |  reset(self)\n",
      " |      This function resets all the dictionaries kept in the overlay.\n",
      " |      \n",
      " |      This function should be used with caution.\n",
      " |      \n",
      " |      Returns\n",
      " |      -------\n",
      " |      None\n",
      " |  \n",
      " |  ----------------------------------------------------------------------\n",
      " |  Data descriptors inherited from pynq.pl.Bitstream:\n",
      " |  \n",
      " |  __dict__\n",
      " |      dictionary for instance variables (if defined)\n",
      " |  \n",
      " |  __weakref__\n",
      " |      list of weak references to the object (if defined)\n",
      "\n"
     ]
    }
   ],
   "source": [
    "help(overlay)"
   ]
  },
  {
   "cell_type": "code",
   "execution_count": 13,
   "metadata": {},
   "outputs": [
    {
     "ename": "ValueError",
     "evalue": "/home/xilinx/jupyter_notebooks/jupyter_notebooks_pynqtutorial/pynqtutorial/Session_4/iop/pynq_tutorial.bin does not exist.",
     "output_type": "error",
     "traceback": [
      "\u001b[0;31m---------------------------------------------------------------------------\u001b[0m",
      "\u001b[0;31mValueError\u001b[0m                                Traceback (most recent call last)",
      "\u001b[0;32m<ipython-input-13-51142458a50b>\u001b[0m in \u001b[0;36m<module>\u001b[0;34m()\u001b[0m\n\u001b[1;32m      1\u001b[0m \u001b[0;32mfrom\u001b[0m \u001b[0miop\u001b[0m\u001b[0;34m.\u001b[0m\u001b[0mpynq_tutorial\u001b[0m \u001b[0;32mimport\u001b[0m \u001b[0mPynq_Tutorial\u001b[0m\u001b[0;34m\u001b[0m\u001b[0m\n\u001b[0;32m----> 2\u001b[0;31m \u001b[0miop\u001b[0m \u001b[0;34m=\u001b[0m \u001b[0mPynq_Tutorial\u001b[0m\u001b[0;34m(\u001b[0m\u001b[0moverlay\u001b[0m\u001b[0;34m.\u001b[0m\u001b[0miop1\u001b[0m\u001b[0;34m.\u001b[0m\u001b[0mmb_info\u001b[0m\u001b[0;34m)\u001b[0m\u001b[0;34m\u001b[0m\u001b[0m\n\u001b[0m",
      "\u001b[0;32m/home/xilinx/jupyter_notebooks/Workshop_Source/Session_4/iop/pynq_tutorial.py\u001b[0m in \u001b[0;36m__init__\u001b[0;34m(self, mb_info)\u001b[0m\n\u001b[1;32m     60\u001b[0m         \"\"\"\n\u001b[1;32m     61\u001b[0m \u001b[0;34m\u001b[0m\u001b[0m\n\u001b[0;32m---> 62\u001b[0;31m         \u001b[0mself\u001b[0m\u001b[0;34m.\u001b[0m\u001b[0mmicroblaze\u001b[0m \u001b[0;34m=\u001b[0m \u001b[0mPmod\u001b[0m\u001b[0;34m(\u001b[0m\u001b[0mmb_info\u001b[0m\u001b[0;34m,\u001b[0m \u001b[0mPYNQ_TUTORIAL_PROGRAM\u001b[0m\u001b[0;34m)\u001b[0m\u001b[0;34m\u001b[0m\u001b[0m\n\u001b[0m\u001b[1;32m     63\u001b[0m \u001b[0;34m\u001b[0m\u001b[0m\n\u001b[1;32m     64\u001b[0m \u001b[0;34m\u001b[0m\u001b[0m\n",
      "\u001b[0;32m/opt/python3.6/lib/python3.6/site-packages/pynq/lib/pmod/pmod.py\u001b[0m in \u001b[0;36m__init__\u001b[0;34m(self, mb_info, mb_program)\u001b[0m\n\u001b[1;32m     95\u001b[0m             \u001b[0mmb_program\u001b[0m \u001b[0;34m=\u001b[0m \u001b[0mos\u001b[0m\u001b[0;34m.\u001b[0m\u001b[0mpath\u001b[0m\u001b[0;34m.\u001b[0m\u001b[0mjoin\u001b[0m\u001b[0;34m(\u001b[0m\u001b[0mBIN_LOCATION\u001b[0m\u001b[0;34m,\u001b[0m \u001b[0mmb_program\u001b[0m\u001b[0;34m)\u001b[0m\u001b[0;34m\u001b[0m\u001b[0m\n\u001b[1;32m     96\u001b[0m \u001b[0;34m\u001b[0m\u001b[0m\n\u001b[0;32m---> 97\u001b[0;31m         \u001b[0msuper\u001b[0m\u001b[0;34m(\u001b[0m\u001b[0;34m)\u001b[0m\u001b[0;34m.\u001b[0m\u001b[0m__init__\u001b[0m\u001b[0;34m(\u001b[0m\u001b[0mmb_info\u001b[0m\u001b[0;34m,\u001b[0m \u001b[0mmb_program\u001b[0m\u001b[0;34m)\u001b[0m\u001b[0;34m\u001b[0m\u001b[0m\n\u001b[0m\u001b[1;32m     98\u001b[0m \u001b[0;34m\u001b[0m\u001b[0m\n\u001b[1;32m     99\u001b[0m     \u001b[0;32mdef\u001b[0m \u001b[0mwrite_mailbox\u001b[0m\u001b[0;34m(\u001b[0m\u001b[0mself\u001b[0m\u001b[0;34m,\u001b[0m \u001b[0mdata_offset\u001b[0m\u001b[0;34m,\u001b[0m \u001b[0mdata\u001b[0m\u001b[0;34m)\u001b[0m\u001b[0;34m:\u001b[0m\u001b[0;34m\u001b[0m\u001b[0m\n",
      "\u001b[0;32m/opt/python3.6/lib/python3.6/site-packages/pynq/lib/pynqmicroblaze.py\u001b[0m in \u001b[0;36m__init__\u001b[0;34m(self, mb_info, mb_program)\u001b[0m\n\u001b[1;32m    160\u001b[0m         \u001b[0;32mif\u001b[0m \u001b[0;32mnot\u001b[0m \u001b[0mos\u001b[0m\u001b[0;34m.\u001b[0m\u001b[0mpath\u001b[0m\u001b[0;34m.\u001b[0m\u001b[0misfile\u001b[0m\u001b[0;34m(\u001b[0m\u001b[0mmb_program\u001b[0m\u001b[0;34m)\u001b[0m\u001b[0;34m:\u001b[0m\u001b[0;34m\u001b[0m\u001b[0m\n\u001b[1;32m    161\u001b[0m             raise ValueError('{} does not exist.'\n\u001b[0;32m--> 162\u001b[0;31m                              .format(mb_program))\n\u001b[0m\u001b[1;32m    163\u001b[0m \u001b[0;34m\u001b[0m\u001b[0m\n\u001b[1;32m    164\u001b[0m         \u001b[0;31m# Get IP information\u001b[0m\u001b[0;34m\u001b[0m\u001b[0;34m\u001b[0m\u001b[0m\n",
      "\u001b[0;31mValueError\u001b[0m: /home/xilinx/jupyter_notebooks/jupyter_notebooks_pynqtutorial/pynqtutorial/Session_4/iop/pynq_tutorial.bin does not exist."
     ]
    }
   ],
   "source": [
    "from iop.pynq_tutorial import Pynq_Tutorial\n",
    "iop = Pynq_Tutorial(overlay.iop1.mb_info)"
   ]
  },
  {
   "cell_type": "code",
   "execution_count": 12,
   "metadata": {},
   "outputs": [
    {
     "name": "stdout",
     "output_type": "stream",
     "text": [
      "Help on MicroblazeHierarchy in module pynq.lib.pynqmicroblaze object:\n",
      "\n",
      "class MicroblazeHierarchy(pynq.overlay.DefaultHierarchy)\n",
      " |  Hierarchy driver for the microblaze subsystem.\n",
      " |  \n",
      " |  Enables the user to `load` programs on to the microblaze. All function\n",
      " |  calls and member accesses are delegated to the loaded program.\n",
      " |  \n",
      " |  Method resolution order:\n",
      " |      MicroblazeHierarchy\n",
      " |      pynq.overlay.DefaultHierarchy\n",
      " |      pynq.overlay._IPMap\n",
      " |      builtins.object\n",
      " |  \n",
      " |  Methods defined here:\n",
      " |  \n",
      " |  __init__(self, description, mbtype='Unknown')\n",
      " |      Create a new _IPMap based on a hierarchical description.\n",
      " |  \n",
      " |  ----------------------------------------------------------------------\n",
      " |  Static methods defined here:\n",
      " |  \n",
      " |  checkhierarchy(description)\n",
      " |      Function to check if the driver matches a particular hierarchy\n",
      " |      \n",
      " |      This function should be redefined in derived classes to return True\n",
      " |      if the description matches what is expected by the driver. The default\n",
      " |      implementation always returns False so that drivers that forget don't\n",
      " |      get loaded for hierarchies they don't expect.\n",
      " |  \n",
      " |  ----------------------------------------------------------------------\n",
      " |  Data descriptors defined here:\n",
      " |  \n",
      " |  mbtype\n",
      " |      The defined type of the microblaze subsystem. Used by driver programs\n",
      " |      to limit what microblaze subsystems the program is run on. The Pynq-Z1\n",
      " |      base overlay has 'Ardiuno' and 'Pmod' microblaze types.\n",
      " |  \n",
      " |  ----------------------------------------------------------------------\n",
      " |  Methods inherited from pynq.overlay._IPMap:\n",
      " |  \n",
      " |  __dir__(self)\n",
      " |      __dir__() -> list\n",
      " |      default dir() implementation\n",
      " |  \n",
      " |  __getattr__(self, key)\n",
      " |  \n",
      " |  ----------------------------------------------------------------------\n",
      " |  Data descriptors inherited from pynq.overlay._IPMap:\n",
      " |  \n",
      " |  __dict__\n",
      " |      dictionary for instance variables (if defined)\n",
      " |  \n",
      " |  __weakref__\n",
      " |      list of weak references to the object (if defined)\n",
      "\n"
     ]
    }
   ],
   "source": [
    "help(iop)"
   ]
  },
  {
   "cell_type": "markdown",
   "metadata": {},
   "source": [
    "Check the content of the buffer before sending the buffer address to the IOP."
   ]
  },
  {
   "cell_type": "code",
   "execution_count": 10,
   "metadata": {},
   "outputs": [
    {
     "name": "stdout",
     "output_type": "stream",
     "text": [
      "Initial state of the buffer\n",
      "0\n",
      "0\n",
      "0\n",
      "0\n",
      "0\n",
      "0\n",
      "0\n",
      "0\n",
      "0\n",
      "0\n"
     ]
    }
   ],
   "source": [
    "print(\"Initial state of the buffer\")\n",
    "length = 10\n",
    "for i in range(length):\n",
    "    print(buffer[i])    "
   ]
  },
  {
   "cell_type": "markdown",
   "metadata": {},
   "source": [
    "## Write to buffer from IOP\n",
    "\n",
    "Write the physical pointer address returned form the *mmu* Xlnk instance, along with an initialization value and a length. The IOP application will then write to the memory buffer."
   ]
  },
  {
   "cell_type": "code",
   "execution_count": 11,
   "metadata": {},
   "outputs": [
    {
     "ename": "AttributeError",
     "evalue": "Could not find IP or hierarchy write_to_buffer in overlay",
     "output_type": "error",
     "traceback": [
      "\u001b[0;31m---------------------------------------------------------------------------\u001b[0m",
      "\u001b[0;31mAttributeError\u001b[0m                            Traceback (most recent call last)",
      "\u001b[0;32m<ipython-input-11-3c28c0d36dbe>\u001b[0m in \u001b[0;36m<module>\u001b[0;34m()\u001b[0m\n\u001b[1;32m      1\u001b[0m \u001b[0mdata\u001b[0m \u001b[0;34m=\u001b[0m \u001b[0;36m1\u001b[0m\u001b[0;34m\u001b[0m\u001b[0m\n\u001b[1;32m      2\u001b[0m \u001b[0mlength\u001b[0m \u001b[0;34m=\u001b[0m \u001b[0;36m10\u001b[0m\u001b[0;34m\u001b[0m\u001b[0m\n\u001b[0;32m----> 3\u001b[0;31m \u001b[0miop\u001b[0m\u001b[0;34m.\u001b[0m\u001b[0mwrite_to_buffer\u001b[0m\u001b[0;34m(\u001b[0m\u001b[0mbuffer\u001b[0m\u001b[0;34m.\u001b[0m\u001b[0mphysical_address\u001b[0m\u001b[0;34m,\u001b[0m \u001b[0mlength\u001b[0m\u001b[0;34m,\u001b[0m \u001b[0mdata\u001b[0m\u001b[0;34m)\u001b[0m\u001b[0;34m\u001b[0m\u001b[0m\n\u001b[0m",
      "\u001b[0;32m/opt/python3.6/lib/python3.6/site-packages/pynq/overlay.py\u001b[0m in \u001b[0;36m__getattr__\u001b[0;34m(self, key)\u001b[0m\n\u001b[1;32m    541\u001b[0m         \u001b[0;32melse\u001b[0m\u001b[0;34m:\u001b[0m\u001b[0;34m\u001b[0m\u001b[0m\n\u001b[1;32m    542\u001b[0m             raise AttributeError(\n\u001b[0;32m--> 543\u001b[0;31m                 \"Could not find IP or hierarchy {} in overlay\".format(key))\n\u001b[0m\u001b[1;32m    544\u001b[0m \u001b[0;34m\u001b[0m\u001b[0m\n\u001b[1;32m    545\u001b[0m     \u001b[0;32mdef\u001b[0m \u001b[0m_keys\u001b[0m\u001b[0;34m(\u001b[0m\u001b[0mself\u001b[0m\u001b[0;34m)\u001b[0m\u001b[0;34m:\u001b[0m\u001b[0;34m\u001b[0m\u001b[0m\n",
      "\u001b[0;31mAttributeError\u001b[0m: Could not find IP or hierarchy write_to_buffer in overlay"
     ]
    }
   ],
   "source": [
    "data = 1\n",
    "length = 10\n",
    "iop.write_to_buffer(buffer.physical_address, length, data)"
   ]
  },
  {
   "cell_type": "markdown",
   "metadata": {},
   "source": [
    "Check the contents of the buffer after the IOP application has modified the buffer. The cell above can be re-run with different values of data and length."
   ]
  },
  {
   "cell_type": "code",
   "execution_count": 10,
   "metadata": {},
   "outputs": [
    {
     "name": "stdout",
     "output_type": "stream",
     "text": [
      "State of buffer after IOP write\n",
      "1\n",
      "2\n",
      "3\n",
      "4\n",
      "5\n",
      "6\n",
      "7\n",
      "8\n",
      "9\n",
      "10\n"
     ]
    }
   ],
   "source": [
    "print(\"State of buffer after IOP write\")\n",
    "for i in range(length):\n",
    "    print(buffer[i])"
   ]
  },
  {
   "cell_type": "markdown",
   "metadata": {},
   "source": [
    "## Free Memory\n",
    "\n",
    "The last step should be to free the memory. "
   ]
  },
  {
   "cell_type": "code",
   "execution_count": 12,
   "metadata": {},
   "outputs": [
    {
     "name": "stdout",
     "output_type": "stream",
     "text": [
      "{'CMA Memory Available': 95690752, 'CMA Memory Usage': 0, 'Buffer Count': 0}\n",
      "Available Memory (KB): 93448\n"
     ]
    }
   ],
   "source": [
    "from time import sleep\n",
    "buffer.freebuffer()\n",
    "sleep(1)\n",
    "print(xlnk.cma_stats())\n",
    "print_kb(xlnk)"
   ]
  }
 ],
 "metadata": {
  "kernelspec": {
   "display_name": "Python 3",
   "language": "python",
   "name": "python3"
  },
  "language_info": {
   "codemirror_mode": {
    "name": "ipython",
    "version": 3
   },
   "file_extension": ".py",
   "mimetype": "text/x-python",
   "name": "python",
   "nbconvert_exporter": "python",
   "pygments_lexer": "ipython3",
   "version": "3.6.0"
  }
 },
 "nbformat": 4,
 "nbformat_minor": 1
}
